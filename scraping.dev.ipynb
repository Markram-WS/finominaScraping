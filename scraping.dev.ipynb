{
 "cells": [
  {
   "cell_type": "code",
   "execution_count": 1,
   "id": "c24b6c14",
   "metadata": {},
   "outputs": [],
   "source": [
    "import pandas as pd\n",
    "import numpy as np"
   ]
  },
  {
   "cell_type": "code",
   "execution_count": 2,
   "id": "957debe2",
   "metadata": {},
   "outputs": [],
   "source": [
    "from selenium import webdriver\n",
    "from selenium.webdriver.common.keys import Keys\n",
    "import time\n",
    "from selenium.webdriver.common.by import By\n",
    "from selenium.webdriver.support.ui import WebDriverWait\n",
    "from selenium.webdriver.support import expected_conditions as EC"
   ]
  },
  {
   "cell_type": "code",
   "execution_count": 3,
   "id": "c6c05910",
   "metadata": {},
   "outputs": [],
   "source": [
    "import warnings\n",
    "warnings.filterwarnings('ignore')\n",
    "warnings.simplefilter('ignore')"
   ]
  },
  {
   "cell_type": "code",
   "execution_count": 4,
   "id": "f1d7a93b",
   "metadata": {},
   "outputs": [],
   "source": [
    "class finominaStock():\n",
    "    def __init__(self):\n",
    "        self.chrome_options = webdriver.ChromeOptions()\n",
    "        self.driver = webdriver.Chrome(executable_path = \"./webdriver/chromedriver.exe\",chrome_options=self.chrome_options)\n",
    "        self.driver.set_page_load_timeout(60)\n",
    "        self.start_symbol = \"\"\n",
    "        \n",
    "    def run(self):\n",
    "        if self.start_symbol == \"\":\n",
    "            start = True\n",
    "        else:\n",
    "            start = False\n",
    "        ####################################\n",
    "        df = pd.read_excel(\"stockList.xlsx\")\n",
    "        for i,r in df.iterrows():\n",
    "            if r['Symbol'] == self.start_symbol:\n",
    "                start = True\n",
    "            \n",
    "            if start :\n",
    "                print(f\"{r['Symbol']} [running]\",end=\"\\r\")\n",
    "                try:\n",
    "                    self.driver.get(f\"https://www.finnomena.com/stock/{r['Symbol']}\")\n",
    "                    WebDriverWait(self.driver, 0,10).until(EC.visibility_of_element_located((By.ID, \"Close\")))\n",
    "                except:\n",
    "                    print(f\"{r['Symbol']} [error]   \")\n",
    "                growthrate = self.financial_ratio(\"stock-growthrate\")\n",
    "                ratio = self.financial_ratio(\"stock-financial-ratio\")\n",
    "                statistics = self.financial_ratio(\"stock-statistics\")\n",
    "                #financial_report = self.financial_ratio(\"stock-financial-report\")\n",
    "                \n",
    "               \n",
    "\n",
    "                data = pd.concat([growthrate, ratio, statistics],axis=1, join='outer')\n",
    "                data.drop(data.tail(1).index,inplace=True) \n",
    "                \n",
    "                data['Symbol'] = r['Symbol']\n",
    "                data['Market'] = r['Market']\n",
    "                data['IndusGroup'] = r['IndusGroup']\n",
    "                data['BusinessGroup'] = r['BusinessGroup']\n",
    "                \n",
    "                data.to_csv(f\"./data/RWST/{r['Symbol']}.csv\",mode='w',encoding='utf-8')\n",
    "                print(f\"{r['Symbol']} [done]   \")\n",
    "            \n",
    "    \n",
    "    #financial-ratio\n",
    "    def financial_ratio( self,Id ):\n",
    "        topic = self.driver.find_element(By.ID, Id).find_element(By.CLASS_NAME, 'topic-wrapper').text.split(\"\\n\")\n",
    "        del topic[0]\n",
    "\n",
    "        content = self.driver.find_element(By.ID, Id).find_element(By.CLASS_NAME, 'content')\n",
    "        date = content.find_element(By.CLASS_NAME, 'timeline-wrapper').text\n",
    "\n",
    "        data = {}\n",
    "        for i,r in enumerate( content.find_elements(By.CLASS_NAME,\"data-wrapper\") ):\n",
    "            data[f\"{topic[i]}\"] = []\n",
    "            for c in r.find_elements(By.CLASS_NAME,\"data-each\"):\n",
    "                data[f\"{topic[i]}\"] += [c.text]\n",
    "\n",
    "        data = pd.DataFrame(data,index=date.split(\"\\n\"))\n",
    "        #data[\"Date\"] = date.split(\"\\n\")\n",
    "        return data"
   ]
  },
  {
   "cell_type": "code",
   "execution_count": 6,
   "id": "93d614dd",
   "metadata": {},
   "outputs": [
    {
     "name": "stdout",
     "output_type": "stream",
     "text": [
      "COM7 [error]   \n",
      "COM7 [done]   \n"
     ]
    }
   ],
   "source": [
    "finomina = finominaStock()\n",
    "finomina.start_symbol = ''\n",
    "finomina.run()"
   ]
  },
  {
   "cell_type": "code",
   "execution_count": null,
   "id": "ef0b4b22",
   "metadata": {},
   "outputs": [],
   "source": []
  },
  {
   "cell_type": "code",
   "execution_count": null,
   "id": "c2912f74",
   "metadata": {},
   "outputs": [],
   "source": []
  },
  {
   "cell_type": "code",
   "execution_count": null,
   "id": "d57ada10",
   "metadata": {},
   "outputs": [],
   "source": []
  }
 ],
 "metadata": {
  "kernelspec": {
   "display_name": "Python 3 (ipykernel)",
   "language": "python",
   "name": "python3"
  },
  "language_info": {
   "codemirror_mode": {
    "name": "ipython",
    "version": 3
   },
   "file_extension": ".py",
   "mimetype": "text/x-python",
   "name": "python",
   "nbconvert_exporter": "python",
   "pygments_lexer": "ipython3",
   "version": "3.9.12"
  }
 },
 "nbformat": 4,
 "nbformat_minor": 5
}
