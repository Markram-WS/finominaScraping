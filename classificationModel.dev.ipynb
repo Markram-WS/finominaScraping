{
 "cells": [
  {
   "cell_type": "code",
   "execution_count": 160,
   "id": "ef0b4b22",
   "metadata": {},
   "outputs": [
    {
     "data": {
      "text/plain": [
       "'D:\\\\Python\\\\finominaScraping'"
      ]
     },
     "execution_count": 160,
     "metadata": {},
     "output_type": "execute_result"
    }
   ],
   "source": [
    "import os\n",
    "os.getcwd()"
   ]
  },
  {
   "cell_type": "code",
   "execution_count": 161,
   "id": "17e0337e-f8c9-4cb0-9bf8-06a336198146",
   "metadata": {},
   "outputs": [],
   "source": [
    "import warnings\n",
    "warnings.simplefilter(action='ignore', category=FutureWarning)\n",
    "import pandas as pd\n",
    "import numpy as np"
   ]
  },
  {
   "cell_type": "code",
   "execution_count": 162,
   "id": "175f8c95",
   "metadata": {},
   "outputs": [],
   "source": [
    "def transformSET(path:str,QUARTER_REF:int):\n",
    "    SET_RAWST = pd.read_csv(path)\n",
    "\n",
    "    dateSplit = pd.DataFrame()\n",
    "    dateSplit[['day','quarter','year']]=SET_RAWST['Timestamp'].str.split(\"-\",n=0,expand=True)\n",
    "    dateSplit['year'] = pd.to_datetime(dateSplit['year'].str.strip().astype(str), format='%y').dt.strftime('%Y')\n",
    "    dateSplit['year'] = dateSplit['year'].astype(int)\n",
    "    dateSplit.loc[  (dateSplit[\"quarter\"]  == \"01\" ) , 'year'] = dateSplit['year']-1\n",
    "    dateSplit['quarter']=dateSplit['quarter'].replace(\"01\",\"4\")\n",
    "    dateSplit['quarter']=dateSplit['quarter'].replace(\"04\",\"1\")\n",
    "    dateSplit['quarter']=dateSplit['quarter'].replace(\"07\",\"2\")\n",
    "    dateSplit['quarter']=dateSplit['quarter'].replace(\"10\",\"3\")\n",
    "    SET_RAWST = pd.concat([dateSplit,SET_RAWST[['SET.Close','Vol']]   ], axis=1) \n",
    "\n",
    "    #take pct_change\n",
    "    SET_RAWST = SET_RAWST.sort_values(['year','quarter'],ascending=True)\n",
    "    SET_RAWST['Vol'] = SET_RAWST['Vol'].apply(lambda x : float( x.replace(\",\",\"\") )).pct_change()\n",
    "    SET_RAWST['SET'] = SET_RAWST['SET.Close'].apply(lambda x : float( x.replace(\",\",\"\") )).pct_change()\n",
    "\n",
    "    SET_RAWST = SET_RAWST.sort_values(['year','quarter'],ascending=False)\n",
    "    SET_RAWST['Date'] = np.add(   \n",
    "            np.add(SET_RAWST['quarter'].astype(str),[\"Q\"]),\n",
    "            SET_RAWST['year'].astype(str) )\n",
    "\n",
    "    \n",
    "    SET_RAWST = SET_RAWST[['Date','SET','Vol']].set_index(\"Date\")    \n",
    "    SET_STG     = pd.DataFrame()\n",
    "    for c in SET_RAWST.columns:\n",
    "        for ref in range(0,QUARTER_REF+1):\n",
    "            SET_STG[f'{c}[{0-ref}]'] = SET_RAWST[c].shift(-ref)\n",
    "        \n",
    "    return SET_STG"
   ]
  },
  {
   "cell_type": "code",
   "execution_count": 183,
   "id": "b42304aa-2173-4411-9548-d3da2759a85c",
   "metadata": {},
   "outputs": [],
   "source": [
    "def transformSTG_X(path:str,QUARTER_REF:str=5,path_set:str=\"./data/SET.BK.csv\"):\n",
    "    \n",
    "    DF_RWST = pd.read_csv(path)\n",
    "    DF_RWST = DF_RWST.rename(columns={\n",
    "        'Unnamed: 0'            : \"Date\", \n",
    "        'รายได้รวม'              : \"TotalRevenue\", #*\n",
    "        'การเติบโตต่อไตรมาส (%)'  : \"growth/quarter\",\n",
    "        'การเติบโตต่อปี (%)'       : \"growth/year\",\n",
    "        'กำไรสุทธิ'               : \"NetProfit\",   #*\n",
    "        'กำไรต่อหุ้น (EPS)'        : \"EPS\",\n",
    "        'ROA (%)'               : \"ROA\",\n",
    "        'ROE (%)'               : \"ROE\",\n",
    "        'อัตรากำไรขั้นต้น (%)'      : \"GrossProfitMargin\",\n",
    "        'อัตราส่วนการขายและบริหารต่อรายได้ (%)'  : \"OperatingMargin\",\n",
    "        'อัตรากำไรสุทธิ (%)'        : \"NetProfitMargin\",\n",
    "        'หนี้สิน/ทุน (เท่า)'         : \"debt/capital\",\n",
    "        'วงจรเงินสด (วัน)'          : \"CashConversionCycle\",\n",
    "        'มูลค่าหลักทรัพย์ตามราคาตลาด (ล้านบาท)'  : \"MKT.values\",\n",
    "        'P/E (เท่า)'                : \"P/E\",\n",
    "        'P/BV (เท่า)'               : \"P/BV\",\n",
    "        'มูลค่าหุ้นทางบัญชีต่อหุ้น (บาท)' : \"BookValue/Share\",\n",
    "        'อัตราส่วนเงินปันผลตอบแทน'    : \"DividendYield\", #drop\n",
    "        'EV / EBITDA'              : \"EV/EBITDA\",\n",
    "        'ราคาล่าสุด (บาท)'           : \"Price\",     #*\n",
    "    })\n",
    "    \n",
    "    #adj Price with Dv\n",
    "    DF_RWST['Price'] = DF_RWST['DividendYield'] + DF_RWST['Price']\n",
    "    #drop Dv\n",
    "    DF_RWST = DF_RWST.drop('DividendYield',axis=1)\n",
    "    \n",
    "    DF_RWST['year'] = DF_RWST['Date'].str.slice(start=2)\n",
    "    DF_RWST['quarter'] = DF_RWST['Date'].str.slice(stop=1)\n",
    "    \n",
    "    #take pct_change\n",
    "    DF_RWST = DF_RWST.sort_values(['year','quarter'],ascending=True)\n",
    "    \n",
    "    DF_RWST['MKT.values'] = DF_RWST['MKT.values'].apply(lambda x : float( x.replace(\",\",\"\") ))\n",
    "    DF_RWST[\"MKT.values\"] = DF_RWST[\"MKT.values\"].pct_change()\n",
    "    \n",
    "    DF_RWST[\"TotalRevenue\"] = DF_RWST[\"TotalRevenue\"].pct_change()\n",
    "    DF_RWST[\"NetProfit\"] = DF_RWST[\"NetProfit\"].pct_change()\n",
    "    DF_RWST[\"Price\"] = DF_RWST[\"Price\"].pct_change()\n",
    "    \n",
    "    #transform\n",
    "    DF_RWST = DF_RWST.sort_values(['year','quarter'],ascending=False)\n",
    "\n",
    "    DF_Cross = DF_RWST[ [\"Symbol\",\"Market\",\"IndusGroup\",\"BusinessGroup\"] ]\n",
    "    \n",
    "    ##### transformDate #####   \n",
    "    DF_Date     = pd.DataFrame()\n",
    "    DF_Date['year']   = DF_RWST['year']\n",
    "    DF_Date['quarter']= DF_RWST['quarter']\n",
    "    \n",
    "    #--tran พศ to คศ  \n",
    "    year = DF_RWST['year'].to_numpy()\n",
    "    year = year.astype(int) - 543\n",
    "    DF_Date['Date'] = np.add(   \n",
    "        np.add(DF_RWST['quarter'].astype(str),[\"Q\"]),\n",
    "        year.astype(str) )\n",
    "\n",
    "    DF_Ts    = DF_RWST.drop( columns=list(DF_Cross.columns)+list(DF_Date.columns) )\n",
    "    DF_Ts    = DF_Ts.reset_index(drop=True)\n",
    "    \n",
    "    ##### transformDF #####\n",
    "    STG_X = pd.DataFrame()\n",
    "    for ref in range(1,QUARTER_REF+1):\n",
    "        STG_X = pd.concat([STG_X ,DF_Ts.shift(-ref).add_suffix(f'[{-ref}]')], axis=1)\n",
    "        \n",
    "    STG_X = pd.concat([STG_X,DF_Ts.add_suffix(f'[0]')   ], axis=1) \n",
    "    #----\n",
    "    STG_X = STG_X.reset_index(drop=True)\n",
    "    \n",
    "    # ADD \"year\",\"quarter\"\n",
    "    # STG_symbol = pd.concat([STG_symbol,DF_Date[ [\"year\",\"quarter\"] ]   ], axis=1) \n",
    "\n",
    "    # ADD CrossSection data\n",
    "    STG_X = pd.concat([STG_X,DF_Cross   ], axis=1) \n",
    "    \n",
    "    DF_Date = DF_Date.reset_index()\n",
    "    STG_X['Date'] = DF_Date['Date']\n",
    "    STG_X = STG_X.set_index('Date')\n",
    "    \n",
    "    \n",
    "    #join\n",
    "    SET_STG = transformSET(path_set,QUARTER_REF)\n",
    "    STG_X.merge(  SET_STG,on=\"Date\" )\n",
    "    \n",
    "    return STG_X ,DF_Date.set_index('Date')\n",
    "    "
   ]
  },
  {
   "cell_type": "code",
   "execution_count": 184,
   "id": "70516f1c-3ae9-4e33-bda3-da987a73ea92",
   "metadata": {},
   "outputs": [],
   "source": [
    "def transformSTG_Y(STG_X,Date):\n",
    "    Y={\n",
    "        'Price[1]':[np.nan]*1, #1q\n",
    "        'Price[2]':[np.nan]*2, #2q\n",
    "        'Price[3]':[np.nan]*3, #3q\n",
    "        'Price[4]':[np.nan]*4  #4q\n",
    "    }\n",
    "\n",
    "    price = STG_X['Price[0]'].values\n",
    "\n",
    "    for i in range(len(STG_X)):\n",
    "        for j in range( 1,len(Y)+1 ):\n",
    "            if i >= j:\n",
    "                Y[f'Price[{j}]'] += [price[i-j]]    \n",
    "                \n",
    "    Y = pd.DataFrame(Y)\n",
    "    Y['Price[0]'] = STG_X['Price[0]'].values\n",
    "    Y = Y[Y.columns.sort_values()]\n",
    "    Y['Date'] = Date.index\n",
    "    return Y.set_index(\"Date\")"
   ]
  },
  {
   "cell_type": "code",
   "execution_count": 185,
   "id": "afcce206",
   "metadata": {},
   "outputs": [],
   "source": [
    "def ratingScore(STG_Y):\n",
    "    STG_Y['Score'] = 0\n",
    "    \n",
    "    STG_Y.loc[ (STG_Y[\"Price[1]\"] > STG_Y[\"Price[0]\"]), 'Score'] = STG_Y['Score']+1\n",
    "    STG_Y.loc[ (STG_Y[\"Price[1]\"] > STG_Y[\"Price[0]\"]) & (STG_Y[\"Price[2]\"] > STG_Y[\"Price[1]\"]), 'Score'] = STG_Y['Score']+1\n",
    "    STG_Y.loc[ (STG_Y[\"Price[1]\"] > STG_Y[\"Price[0]\"]) \n",
    "              & (STG_Y[\"Price[2]\"] > STG_Y[\"Price[0]\"])\n",
    "              & (STG_Y[\"Price[2]\"] > STG_Y[\"Price[1]\"]), 'Score'] = STG_Y['Score']+1\n",
    "    \n",
    "    #add Score\n",
    "    STG_Y.loc[  (STG_Y[\"Price[1]\"]  >=0.10) , 'Score'] = STG_Y['Score']+1\n",
    "    STG_Y.loc[  (STG_Y[\"Price[1]\"]  >=0.10) , 'Score'] = STG_Y['Score']+1\n",
    "    STG_Y.loc[  (STG_Y[\"Price[2]\"]  >=0.10) , 'Score'] = STG_Y['Score']-1\n",
    "    STG_Y.loc[  (STG_Y[\"Price[2]\"]  >=0.10) , 'Score'] = STG_Y['Score']-1\n",
    "    \n",
    "    #set Score nan\n",
    "    STG_Y.loc[  STG_Y[\"Price[1]\"].isnull()  , 'Score'] = np.nan\n",
    "    STG_Y.loc[  STG_Y[\"Price[2]\"].isnull()  , 'Score'] = np.nan\n",
    "    #STG_Y.loc[  STG_Y[\"Price[0]\"].isnull()  , 'Score'] = np.nan\n",
    "    return STG_Y[['Score']]"
   ]
  },
  {
   "cell_type": "code",
   "execution_count": 186,
   "id": "e91d3a6c-1f88-4542-96cb-bfb93d081529",
   "metadata": {},
   "outputs": [],
   "source": [
    "# RWST => transformSTG_Y => STG_X,DATE\n",
    "STG_X,Date = transformSTG_X('./data/RWST/MFC.csv',)"
   ]
  },
  {
   "cell_type": "code",
   "execution_count": 187,
   "id": "b4ceaa9a-8c83-496b-8128-eb3c7d546e0f",
   "metadata": {},
   "outputs": [],
   "source": [
    "# STG_X => transformSTG_Y => STG_Y\n",
    "STG_Y = transformSTG_Y(STG_X,Date)"
   ]
  },
  {
   "cell_type": "code",
   "execution_count": 188,
   "id": "3858b0f1-12e8-4c7a-afe8-a138e1a70a4c",
   "metadata": {},
   "outputs": [],
   "source": [
    "# STG_Y => Score => score_Y\n",
    "score_Y = ratingScore(STG_Y)"
   ]
  },
  {
   "cell_type": "code",
   "execution_count": 189,
   "id": "783ed861",
   "metadata": {},
   "outputs": [
    {
     "data": {
      "text/html": [
       "<div>\n",
       "<style scoped>\n",
       "    .dataframe tbody tr th:only-of-type {\n",
       "        vertical-align: middle;\n",
       "    }\n",
       "\n",
       "    .dataframe tbody tr th {\n",
       "        vertical-align: top;\n",
       "    }\n",
       "\n",
       "    .dataframe thead th {\n",
       "        text-align: right;\n",
       "    }\n",
       "</style>\n",
       "<table border=\"1\" class=\"dataframe\">\n",
       "  <thead>\n",
       "    <tr style=\"text-align: right;\">\n",
       "      <th></th>\n",
       "      <th>Score</th>\n",
       "    </tr>\n",
       "    <tr>\n",
       "      <th>Date</th>\n",
       "      <th></th>\n",
       "    </tr>\n",
       "  </thead>\n",
       "  <tbody>\n",
       "    <tr>\n",
       "      <th>3Q2022</th>\n",
       "      <td>NaN</td>\n",
       "    </tr>\n",
       "    <tr>\n",
       "      <th>2Q2022</th>\n",
       "      <td>NaN</td>\n",
       "    </tr>\n",
       "    <tr>\n",
       "      <th>1Q2022</th>\n",
       "      <td>0.0</td>\n",
       "    </tr>\n",
       "    <tr>\n",
       "      <th>4Q2021</th>\n",
       "      <td>3.0</td>\n",
       "    </tr>\n",
       "    <tr>\n",
       "      <th>3Q2021</th>\n",
       "      <td>3.0</td>\n",
       "    </tr>\n",
       "  </tbody>\n",
       "</table>\n",
       "</div>"
      ],
      "text/plain": [
       "        Score\n",
       "Date         \n",
       "3Q2022    NaN\n",
       "2Q2022    NaN\n",
       "1Q2022    0.0\n",
       "4Q2021    3.0\n",
       "3Q2021    3.0"
      ]
     },
     "execution_count": 189,
     "metadata": {},
     "output_type": "execute_result"
    }
   ],
   "source": [
    "score_Y.head()"
   ]
  },
  {
   "cell_type": "code",
   "execution_count": null,
   "id": "f0c01f8e",
   "metadata": {},
   "outputs": [],
   "source": []
  },
  {
   "cell_type": "code",
   "execution_count": null,
   "id": "d99a279f",
   "metadata": {},
   "outputs": [],
   "source": [
    "#==> drop Symbol\n",
    "#==> one hot : Market\n",
    "#==> one hot : IndusGroup\n",
    "#==> one hot : BusinessGroup\n"
   ]
  },
  {
   "cell_type": "code",
   "execution_count": null,
   "id": "5b8b44ac",
   "metadata": {},
   "outputs": [],
   "source": []
  }
 ],
 "metadata": {
  "kernelspec": {
   "display_name": "Python 3 (ipykernel)",
   "language": "python",
   "name": "python3"
  },
  "language_info": {
   "codemirror_mode": {
    "name": "ipython",
    "version": 3
   },
   "file_extension": ".py",
   "mimetype": "text/x-python",
   "name": "python",
   "nbconvert_exporter": "python",
   "pygments_lexer": "ipython3",
   "version": "3.9.12"
  }
 },
 "nbformat": 4,
 "nbformat_minor": 5
}
