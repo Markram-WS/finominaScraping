{
 "cells": [
  {
   "cell_type": "code",
   "execution_count": 4,
   "id": "ef0b4b22",
   "metadata": {},
   "outputs": [
    {
     "data": {
      "text/plain": [
       "'D:\\\\Python\\\\finominaScraping'"
      ]
     },
     "execution_count": 4,
     "metadata": {},
     "output_type": "execute_result"
    }
   ],
   "source": [
    "import os\n",
    "os.getcwd()"
   ]
  },
  {
   "cell_type": "code",
   "execution_count": 5,
   "id": "17e0337e-f8c9-4cb0-9bf8-06a336198146",
   "metadata": {},
   "outputs": [],
   "source": [
    "import warnings\n",
    "warnings.simplefilter(action='ignore', category=FutureWarning)\n",
    "import pandas as pd\n",
    "import numpy as np"
   ]
  },
  {
   "cell_type": "code",
   "execution_count": 6,
   "id": "b42304aa-2173-4411-9548-d3da2759a85c",
   "metadata": {},
   "outputs": [],
   "source": [
    "def transformSTG_X(path:str,QUARTER_REF:str=5):\n",
    "    \n",
    "    DF_RWST = pd.read_csv(path)\n",
    "    DF_RWST = DF_RWST.rename(columns={\n",
    "        'Unnamed: 0'            : \"Date\", \n",
    "        'รายได้รวม'              : \"TotalRevenue\", \n",
    "        'การเติบโตต่อไตรมาส (%)'  : \"growth/quarter\",\n",
    "        'การเติบโตต่อปี (%)'       : \"growth/year\",\n",
    "        'กำไรสุทธิ'               : \"NetProfit\",\n",
    "        'กำไรต่อหุ้น (EPS)'        : \"EPS\",\n",
    "        'ROA (%)'               : \"ROA\",\n",
    "        'ROE (%)'               : \"ROE\",\n",
    "        'อัตรากำไรขั้นต้น (%)'      : \"GrossProfitMargin\",\n",
    "        'อัตราส่วนการขายและบริหารต่อรายได้ (%)'  : \"OperatingMargin\",\n",
    "        'อัตรากำไรสุทธิ (%)'        : \"NetProfitMargin\",\n",
    "        'หนี้สิน/ทุน (เท่า)'         : \"debt/capital\",\n",
    "        'วงจรเงินสด (วัน)'          : \"CashConversionCycle\",\n",
    "        'มูลค่าหลักทรัพย์ตามราคาตลาด (ล้านบาท)'  : \"MKT.values\",\n",
    "        'P/E (เท่า)'                : \"P/E\",\n",
    "        'P/BV (เท่า)'               : \"P/BV\",\n",
    "        'มูลค่าหุ้นทางบัญชีต่อหุ้น (บาท)' : \"BookValue/Share\",\n",
    "        'อัตราส่วนเงินปันผลตอบแทน'    : \"DividendYield\",\n",
    "        'EV / EBITDA'              : \"EV/EBITDA\",\n",
    "        'ราคาล่าสุด (บาท)'           : \"Price\",\n",
    "    })\n",
    "    DF_RWST['year'] = DF_RWST['Date'].str.slice(start=2)\n",
    "    DF_RWST['quarter'] = DF_RWST['Date'].str.slice(stop=1)\n",
    "    DF_RWST = DF_RWST.sort_values(['year','quarter'],ascending=False)\n",
    "\n",
    "\n",
    "    DF_Cross = DF_RWST[ [\"Symbol\",\"Market\",\"IndusGroup\",\"BusinessGroup\"] ]\n",
    "    \n",
    "    ##### transformDate #####   \n",
    "    DF_Date     = pd.DataFrame()\n",
    "    DF_Date['year']   = DF_RWST['year']\n",
    "    DF_Date['quarter']= DF_RWST['quarter']\n",
    "    \n",
    "    #--tran พศ to คศ  \n",
    "    year = DF_RWST['year'].to_numpy()\n",
    "    year = year.astype(int) - 543\n",
    "    DF_Date['Date'] = np.add(   \n",
    "        np.add(DF_RWST['quarter'].astype(str),[\"Q\"]),\n",
    "        year.astype(str) )\n",
    "\n",
    "    \n",
    "    \n",
    "    DF_Ts    = DF_RWST.drop( columns=list(DF_Cross.columns)+list(DF_Date.columns) )\n",
    "    DF_Ts    = DF_Ts.reset_index(drop=True)\n",
    "    \n",
    "    ##### transformDF #####\n",
    "    STG_symbol = pd.DataFrame()\n",
    "    for i,c1 in DF_Ts.iterrows():\n",
    "        transformDF = pd.DataFrame([c1.values], columns=c1.index).add_suffix(f'[0]') \n",
    "        ref = 0\n",
    "        for j,c2 in DF_Ts[i+1:i+1+QUARTER_REF].iterrows():\n",
    "            ref += 1\n",
    "            transformDF = pd.concat([transformDF,pd.DataFrame([c2.values], columns=c2.index).add_suffix(f'[-{ref}]')  ] , axis=1)\n",
    "\n",
    "        STG_symbol = pd.concat([STG_symbol,transformDF], axis=0) \n",
    "    STG_symbol = STG_symbol.reset_index(drop=True)\n",
    "    \n",
    "    # ADD \"year\",\"quarter\"\n",
    "    # STG_symbol = pd.concat([STG_symbol,DF_Date[ [\"year\",\"quarter\"] ]   ], axis=1) \n",
    "\n",
    "    # ADD CrossSection data\n",
    "    STG_X = pd.concat([STG_symbol,DF_Cross   ], axis=1) \n",
    "    \n",
    "    DF_Date = DF_Date.reset_index()\n",
    "    STG_X['Date'] = DF_Date['Date']\n",
    "    \n",
    "    return STG_X.set_index('Date') ,DF_Date.set_index('Date')\n",
    "    "
   ]
  },
  {
   "cell_type": "code",
   "execution_count": 7,
   "id": "70516f1c-3ae9-4e33-bda3-da987a73ea92",
   "metadata": {},
   "outputs": [],
   "source": [
    "def transformSTG_Y(STG_X,Date):\n",
    "    Y={\n",
    "        'Price[1]':[np.nan]*1, #1q\n",
    "        'Price[2]':[np.nan]*2, #2q\n",
    "        'Price[3]':[np.nan]*3, #3q\n",
    "        'Price[4]':[np.nan]*4 #4q\n",
    "    }\n",
    "\n",
    "    price = STG_X['Price[0]'].values\n",
    "\n",
    "    for i in range(len(STG_X)):\n",
    "        for j in range( 1,len(Y)+1 ):\n",
    "            if i >= j:\n",
    "                Y[f'Price[{j}]'] += [price[i-j]]    \n",
    "                \n",
    "    Y = pd.DataFrame(Y)\n",
    "    Y['Price[0]'] = STG_X['Price[0]'].values\n",
    "    Y = Y[Y.columns.sort_values()]\n",
    "    Y['Date'] = Date.index\n",
    "    return Y.set_index(\"Date\")"
   ]
  },
  {
   "cell_type": "code",
   "execution_count": 12,
   "id": "cbcbc030-a069-47f9-98e1-a73c17200165",
   "metadata": {},
   "outputs": [],
   "source": [
    "def ratingScore(STG_Y,Date):\n",
    "    STG_Y['naValue']   = np.any(  [pd.isnull(STG_Y[c]).values  for c in  STG_Y.columns] ,axis = 0 )\n",
    "    STG_Y['score']     = np.nan\n",
    "    columns = STG_Y.columns\n",
    "    \n",
    "    for i,r in STG_Y.iterrows():\n",
    "        if r['naValue'] == True:\n",
    "            r['score']  = np.nan\n",
    "        else:\n",
    "            if r[\"Price[0]\"] == 0 :\n",
    "                r['score'] = np.nan\n",
    "            else:\n",
    "                diff = (r[\"Price[1]\"] / r[\"Price[0]\"])-1\n",
    "                if diff >= 0.2 :\n",
    "                    r['score'] = 3\n",
    "                elif diff >= 0.1 :\n",
    "                    r['score'] = 2\n",
    "                elif diff >= 0 :\n",
    "                    r['score'] = 1\n",
    "                else:\n",
    "                    r['score'] = 0\n",
    "    return STG_Y"
   ]
  },
  {
   "cell_type": "code",
   "execution_count": 9,
   "id": "e91d3a6c-1f88-4542-96cb-bfb93d081529",
   "metadata": {},
   "outputs": [],
   "source": [
    "STG_X,Date = transformSTG_X('./data/RWST/MFC.csv',)"
   ]
  },
  {
   "cell_type": "code",
   "execution_count": 12,
   "id": "b4ceaa9a-8c83-496b-8128-eb3c7d546e0f",
   "metadata": {},
   "outputs": [],
   "source": [
    "STG_Y = transformSTG_Y(STG_X,Date)"
   ]
  },
  {
   "cell_type": "code",
   "execution_count": 14,
   "id": "3858b0f1-12e8-4c7a-afe8-a138e1a70a4c",
   "metadata": {},
   "outputs": [
    {
     "data": {
      "text/plain": [
       "43"
      ]
     },
     "execution_count": 14,
     "metadata": {},
     "output_type": "execute_result"
    }
   ],
   "source": [
    "len(STG_X)"
   ]
  },
  {
   "cell_type": "code",
   "execution_count": null,
   "id": "1a68dfdf-338e-43b7-92f4-459db1fc4ae5",
   "metadata": {},
   "outputs": [],
   "source": []
  },
  {
   "cell_type": "code",
   "execution_count": 106,
   "id": "b41ec8a0-9900-4008-a6ea-b9fb79f4e330",
   "metadata": {},
   "outputs": [],
   "source": [
    "#get set index\n",
    "SET = pd.read_csv('./data/SET.BK.csv')\n"
   ]
  },
  {
   "cell_type": "code",
   "execution_count": 64,
   "id": "9b0d0063-2650-47a4-9443-cddbcb7ba98b",
   "metadata": {},
   "outputs": [],
   "source": [
    "dateSplit = pd.DataFrame()\n",
    "dateSplit[['day','quarter','year']]=SET['Timestamp'].str.split(\"-\",n=0,expand=True)"
   ]
  },
  {
   "cell_type": "code",
   "execution_count": 71,
   "id": "30cd5cd3-f482-4537-87fe-93ebe5d8f1cf",
   "metadata": {},
   "outputs": [],
   "source": [
    "dateSplit['quarter']=dateSplit['quarter'].replace(\"01\",\"4\")\n",
    "dateSplit['quarter']=dateSplit['quarter'].replace(\"04\",\"1\")\n",
    "dateSplit['quarter']=dateSplit['quarter'].replace(\"07\",\"2\")\n",
    "dateSplit['quarter']=dateSplit['quarter'].replace(\"10\",\"3\")"
   ]
  },
  {
   "cell_type": "code",
   "execution_count": 92,
   "id": "c99f45a3-6ddf-42b2-8a0c-16a1dd6b6139",
   "metadata": {},
   "outputs": [],
   "source": [
    "dateSplit['year'] = pd.to_datetime(dateSplit['year'].str.strip().astype(str), format='%y').dt.strftime('%Y')"
   ]
  },
  {
   "cell_type": "code",
   "execution_count": 98,
   "id": "1fa72556-ec95-41ad-a957-44a698bda4ee",
   "metadata": {},
   "outputs": [],
   "source": [
    "dateSplit['Date'] = np.add(   \n",
    "    np.add(dateSplit['quarter'].astype(str),[\"Q\"]),\n",
    "    dateSplit['year'].astype(str) )"
   ]
  },
  {
   "cell_type": "code",
   "execution_count": 108,
   "id": "eb6e2b79-3178-4983-9db8-8770f23951a5",
   "metadata": {},
   "outputs": [
    {
     "ename": "ValueError",
     "evalue": "No axis named  for object type Series",
     "output_type": "error",
     "traceback": [
      "\u001b[1;31m---------------------------------------------------------------------------\u001b[0m",
      "\u001b[1;31mKeyError\u001b[0m                                  Traceback (most recent call last)",
      "File \u001b[1;32m~\\anaconda3\\lib\\site-packages\\pandas\\core\\generic.py:550\u001b[0m, in \u001b[0;36mNDFrame._get_axis_number\u001b[1;34m(cls, axis)\u001b[0m\n\u001b[0;32m    549\u001b[0m \u001b[38;5;28;01mtry\u001b[39;00m:\n\u001b[1;32m--> 550\u001b[0m     \u001b[38;5;28;01mreturn\u001b[39;00m \u001b[38;5;28;43mcls\u001b[39;49m\u001b[38;5;241;43m.\u001b[39;49m\u001b[43m_AXIS_TO_AXIS_NUMBER\u001b[49m\u001b[43m[\u001b[49m\u001b[43maxis\u001b[49m\u001b[43m]\u001b[49m\n\u001b[0;32m    551\u001b[0m \u001b[38;5;28;01mexcept\u001b[39;00m \u001b[38;5;167;01mKeyError\u001b[39;00m:\n",
      "\u001b[1;31mKeyError\u001b[0m: ''",
      "\nDuring handling of the above exception, another exception occurred:\n",
      "\u001b[1;31mValueError\u001b[0m                                Traceback (most recent call last)",
      "Input \u001b[1;32mIn [108]\u001b[0m, in \u001b[0;36m<cell line: 1>\u001b[1;34m()\u001b[0m\n\u001b[1;32m----> 1\u001b[0m \u001b[43mdateSplit\u001b[49m\u001b[43m[\u001b[49m\u001b[38;5;124;43m'\u001b[39;49m\u001b[38;5;124;43mDate\u001b[39;49m\u001b[38;5;124;43m'\u001b[39;49m\u001b[43m]\u001b[49m\u001b[38;5;241;43m.\u001b[39;49m\u001b[43msort_values\u001b[49m\u001b[43m(\u001b[49m\u001b[38;5;124;43m'\u001b[39;49m\u001b[38;5;124;43m'\u001b[39;49m\u001b[43m,\u001b[49m\u001b[43mascending\u001b[49m\u001b[38;5;241;43m=\u001b[39;49m\u001b[38;5;28;43;01mFalse\u001b[39;49;00m\u001b[43m)\u001b[49m\n",
      "File \u001b[1;32m~\\anaconda3\\lib\\site-packages\\pandas\\util\\_decorators.py:311\u001b[0m, in \u001b[0;36mdeprecate_nonkeyword_arguments.<locals>.decorate.<locals>.wrapper\u001b[1;34m(*args, **kwargs)\u001b[0m\n\u001b[0;32m    305\u001b[0m \u001b[38;5;28;01mif\u001b[39;00m \u001b[38;5;28mlen\u001b[39m(args) \u001b[38;5;241m>\u001b[39m num_allow_args:\n\u001b[0;32m    306\u001b[0m     warnings\u001b[38;5;241m.\u001b[39mwarn(\n\u001b[0;32m    307\u001b[0m         msg\u001b[38;5;241m.\u001b[39mformat(arguments\u001b[38;5;241m=\u001b[39marguments),\n\u001b[0;32m    308\u001b[0m         \u001b[38;5;167;01mFutureWarning\u001b[39;00m,\n\u001b[0;32m    309\u001b[0m         stacklevel\u001b[38;5;241m=\u001b[39mstacklevel,\n\u001b[0;32m    310\u001b[0m     )\n\u001b[1;32m--> 311\u001b[0m \u001b[38;5;28;01mreturn\u001b[39;00m func(\u001b[38;5;241m*\u001b[39margs, \u001b[38;5;241m*\u001b[39m\u001b[38;5;241m*\u001b[39mkwargs)\n",
      "File \u001b[1;32m~\\anaconda3\\lib\\site-packages\\pandas\\core\\series.py:3502\u001b[0m, in \u001b[0;36mSeries.sort_values\u001b[1;34m(self, axis, ascending, inplace, kind, na_position, ignore_index, key)\u001b[0m\n\u001b[0;32m   3500\u001b[0m inplace \u001b[38;5;241m=\u001b[39m validate_bool_kwarg(inplace, \u001b[38;5;124m\"\u001b[39m\u001b[38;5;124minplace\u001b[39m\u001b[38;5;124m\"\u001b[39m)\n\u001b[0;32m   3501\u001b[0m \u001b[38;5;66;03m# Validate the axis parameter\u001b[39;00m\n\u001b[1;32m-> 3502\u001b[0m \u001b[38;5;28;43mself\u001b[39;49m\u001b[38;5;241;43m.\u001b[39;49m\u001b[43m_get_axis_number\u001b[49m\u001b[43m(\u001b[49m\u001b[43maxis\u001b[49m\u001b[43m)\u001b[49m\n\u001b[0;32m   3504\u001b[0m \u001b[38;5;66;03m# GH 5856/5853\u001b[39;00m\n\u001b[0;32m   3505\u001b[0m \u001b[38;5;28;01mif\u001b[39;00m inplace \u001b[38;5;129;01mand\u001b[39;00m \u001b[38;5;28mself\u001b[39m\u001b[38;5;241m.\u001b[39m_is_cached:\n",
      "File \u001b[1;32m~\\anaconda3\\lib\\site-packages\\pandas\\core\\generic.py:552\u001b[0m, in \u001b[0;36mNDFrame._get_axis_number\u001b[1;34m(cls, axis)\u001b[0m\n\u001b[0;32m    550\u001b[0m     \u001b[38;5;28;01mreturn\u001b[39;00m \u001b[38;5;28mcls\u001b[39m\u001b[38;5;241m.\u001b[39m_AXIS_TO_AXIS_NUMBER[axis]\n\u001b[0;32m    551\u001b[0m \u001b[38;5;28;01mexcept\u001b[39;00m \u001b[38;5;167;01mKeyError\u001b[39;00m:\n\u001b[1;32m--> 552\u001b[0m     \u001b[38;5;28;01mraise\u001b[39;00m \u001b[38;5;167;01mValueError\u001b[39;00m(\u001b[38;5;124mf\u001b[39m\u001b[38;5;124m\"\u001b[39m\u001b[38;5;124mNo axis named \u001b[39m\u001b[38;5;132;01m{\u001b[39;00maxis\u001b[38;5;132;01m}\u001b[39;00m\u001b[38;5;124m for object type \u001b[39m\u001b[38;5;132;01m{\u001b[39;00m\u001b[38;5;28mcls\u001b[39m\u001b[38;5;241m.\u001b[39m\u001b[38;5;18m__name__\u001b[39m\u001b[38;5;132;01m}\u001b[39;00m\u001b[38;5;124m\"\u001b[39m)\n",
      "\u001b[1;31mValueError\u001b[0m: No axis named  for object type Series"
     ]
    }
   ],
   "source": [
    "dateSplit['Date'].sort_values('',ascending=False)"
   ]
  },
  {
   "cell_type": "code",
   "execution_count": 77,
   "id": "0a7e286b-0068-4d10-a0ec-68e092767615",
   "metadata": {},
   "outputs": [
    {
     "ename": "AttributeError",
     "evalue": "'Series' object has no attribute 'strftime'",
     "output_type": "error",
     "traceback": [
      "\u001b[1;31m---------------------------------------------------------------------------\u001b[0m",
      "\u001b[1;31mAttributeError\u001b[0m                            Traceback (most recent call last)",
      "Input \u001b[1;32mIn [77]\u001b[0m, in \u001b[0;36m<cell line: 1>\u001b[1;34m()\u001b[0m\n\u001b[1;32m----> 1\u001b[0m \u001b[43mdateSplit\u001b[49m\u001b[43m[\u001b[49m\u001b[38;5;124;43m'\u001b[39;49m\u001b[38;5;124;43myear\u001b[39;49m\u001b[38;5;124;43m'\u001b[39;49m\u001b[43m]\u001b[49m\u001b[38;5;241;43m.\u001b[39;49m\u001b[43mstr\u001b[49m\u001b[38;5;241;43m.\u001b[39;49m\u001b[43mstrip\u001b[49m\u001b[43m(\u001b[49m\u001b[43m)\u001b[49m\u001b[38;5;241;43m.\u001b[39;49m\u001b[43mstrftime\u001b[49m(\u001b[38;5;124m'\u001b[39m\u001b[38;5;124m%\u001b[39m\u001b[38;5;124mY\u001b[39m\u001b[38;5;124m'\u001b[39m)\n",
      "File \u001b[1;32m~\\anaconda3\\lib\\site-packages\\pandas\\core\\generic.py:5575\u001b[0m, in \u001b[0;36mNDFrame.__getattr__\u001b[1;34m(self, name)\u001b[0m\n\u001b[0;32m   5568\u001b[0m \u001b[38;5;28;01mif\u001b[39;00m (\n\u001b[0;32m   5569\u001b[0m     name \u001b[38;5;129;01mnot\u001b[39;00m \u001b[38;5;129;01min\u001b[39;00m \u001b[38;5;28mself\u001b[39m\u001b[38;5;241m.\u001b[39m_internal_names_set\n\u001b[0;32m   5570\u001b[0m     \u001b[38;5;129;01mand\u001b[39;00m name \u001b[38;5;129;01mnot\u001b[39;00m \u001b[38;5;129;01min\u001b[39;00m \u001b[38;5;28mself\u001b[39m\u001b[38;5;241m.\u001b[39m_metadata\n\u001b[0;32m   5571\u001b[0m     \u001b[38;5;129;01mand\u001b[39;00m name \u001b[38;5;129;01mnot\u001b[39;00m \u001b[38;5;129;01min\u001b[39;00m \u001b[38;5;28mself\u001b[39m\u001b[38;5;241m.\u001b[39m_accessors\n\u001b[0;32m   5572\u001b[0m     \u001b[38;5;129;01mand\u001b[39;00m \u001b[38;5;28mself\u001b[39m\u001b[38;5;241m.\u001b[39m_info_axis\u001b[38;5;241m.\u001b[39m_can_hold_identifiers_and_holds_name(name)\n\u001b[0;32m   5573\u001b[0m ):\n\u001b[0;32m   5574\u001b[0m     \u001b[38;5;28;01mreturn\u001b[39;00m \u001b[38;5;28mself\u001b[39m[name]\n\u001b[1;32m-> 5575\u001b[0m \u001b[38;5;28;01mreturn\u001b[39;00m \u001b[38;5;28;43mobject\u001b[39;49m\u001b[38;5;241;43m.\u001b[39;49m\u001b[38;5;21;43m__getattribute__\u001b[39;49m\u001b[43m(\u001b[49m\u001b[38;5;28;43mself\u001b[39;49m\u001b[43m,\u001b[49m\u001b[43m \u001b[49m\u001b[43mname\u001b[49m\u001b[43m)\u001b[49m\n",
      "\u001b[1;31mAttributeError\u001b[0m: 'Series' object has no attribute 'strftime'"
     ]
    }
   ],
   "source": [
    "dateSplit['year'].str.strip().strftime('%Y')"
   ]
  },
  {
   "cell_type": "code",
   "execution_count": 53,
   "id": "15c2dee8-50df-47ba-945f-9b53b525a89b",
   "metadata": {},
   "outputs": [],
   "source": [
    "Y = pd.DataFrame( {\"Date\":q[1].str.strip()} )"
   ]
  },
  {
   "cell_type": "code",
   "execution_count": 54,
   "id": "42b19677-fcff-4e9e-8e62-3a442f4047c3",
   "metadata": {},
   "outputs": [
    {
     "data": {
      "text/html": [
       "<div>\n",
       "<style scoped>\n",
       "    .dataframe tbody tr th:only-of-type {\n",
       "        vertical-align: middle;\n",
       "    }\n",
       "\n",
       "    .dataframe tbody tr th {\n",
       "        vertical-align: top;\n",
       "    }\n",
       "\n",
       "    .dataframe thead th {\n",
       "        text-align: right;\n",
       "    }\n",
       "</style>\n",
       "<table border=\"1\" class=\"dataframe\">\n",
       "  <thead>\n",
       "    <tr style=\"text-align: right;\">\n",
       "      <th></th>\n",
       "      <th>Date</th>\n",
       "    </tr>\n",
       "  </thead>\n",
       "  <tbody>\n",
       "    <tr>\n",
       "      <th>0</th>\n",
       "      <td>04-75</td>\n",
       "    </tr>\n",
       "    <tr>\n",
       "      <th>1</th>\n",
       "      <td>07-75</td>\n",
       "    </tr>\n",
       "    <tr>\n",
       "      <th>2</th>\n",
       "      <td>10-75</td>\n",
       "    </tr>\n",
       "    <tr>\n",
       "      <th>3</th>\n",
       "      <td>01-76</td>\n",
       "    </tr>\n",
       "    <tr>\n",
       "      <th>4</th>\n",
       "      <td>04-76</td>\n",
       "    </tr>\n",
       "    <tr>\n",
       "      <th>...</th>\n",
       "      <td>...</td>\n",
       "    </tr>\n",
       "    <tr>\n",
       "      <th>186</th>\n",
       "      <td>10-21</td>\n",
       "    </tr>\n",
       "    <tr>\n",
       "      <th>187</th>\n",
       "      <td>01-22</td>\n",
       "    </tr>\n",
       "    <tr>\n",
       "      <th>188</th>\n",
       "      <td>04-22</td>\n",
       "    </tr>\n",
       "    <tr>\n",
       "      <th>189</th>\n",
       "      <td>07-22</td>\n",
       "    </tr>\n",
       "    <tr>\n",
       "      <th>190</th>\n",
       "      <td>10-22</td>\n",
       "    </tr>\n",
       "  </tbody>\n",
       "</table>\n",
       "<p>191 rows × 1 columns</p>\n",
       "</div>"
      ],
      "text/plain": [
       "      Date\n",
       "0    04-75\n",
       "1    07-75\n",
       "2    10-75\n",
       "3    01-76\n",
       "4    04-76\n",
       "..     ...\n",
       "186  10-21\n",
       "187  01-22\n",
       "188  04-22\n",
       "189  07-22\n",
       "190  10-22\n",
       "\n",
       "[191 rows x 1 columns]"
      ]
     },
     "execution_count": 54,
     "metadata": {},
     "output_type": "execute_result"
    }
   ],
   "source": [
    "Y"
   ]
  },
  {
   "cell_type": "code",
   "execution_count": 13,
   "id": "4f94e0cc-f7ff-4a89-adfa-4481420a1421",
   "metadata": {},
   "outputs": [
    {
     "name": "stdout",
     "output_type": "stream",
     "text": [
      "21.9\n",
      "19.0\n",
      "17.1\n",
      "14.6\n",
      "13.6\n",
      "13.4\n",
      "12.9\n",
      "15.4\n",
      "17.3\n",
      "18.0\n",
      "18.6\n",
      "16.7\n",
      "16.9\n",
      "15.0\n",
      "17.4\n",
      "16.2\n",
      "20.0\n",
      "20.3\n",
      "22.9\n",
      "21.9\n",
      "22.3\n",
      "22.2\n",
      "24.3\n",
      "24.7\n",
      "0.0\n"
     ]
    },
    {
     "ename": "ZeroDivisionError",
     "evalue": "float division by zero",
     "output_type": "error",
     "traceback": [
      "\u001b[1;31m---------------------------------------------------------------------------\u001b[0m",
      "\u001b[1;31mZeroDivisionError\u001b[0m                         Traceback (most recent call last)",
      "Input \u001b[1;32mIn [13]\u001b[0m, in \u001b[0;36m<cell line: 1>\u001b[1;34m()\u001b[0m\n\u001b[1;32m----> 1\u001b[0m \u001b[43mratingScore\u001b[49m\u001b[43m(\u001b[49m\u001b[43mSTG_Y\u001b[49m\u001b[43m,\u001b[49m\u001b[43mDate\u001b[49m\u001b[43m)\u001b[49m\n",
      "Input \u001b[1;32mIn [10]\u001b[0m, in \u001b[0;36mratingScore\u001b[1;34m(STG_Y, Date)\u001b[0m\n\u001b[0;32m      9\u001b[0m \u001b[38;5;28;01melse\u001b[39;00m:\n\u001b[0;32m     10\u001b[0m     \u001b[38;5;28mprint\u001b[39m(r[\u001b[38;5;124m\"\u001b[39m\u001b[38;5;124mPrice[0]\u001b[39m\u001b[38;5;124m\"\u001b[39m])\n\u001b[1;32m---> 11\u001b[0m     diff \u001b[38;5;241m=\u001b[39m (\u001b[43mr\u001b[49m\u001b[43m[\u001b[49m\u001b[38;5;124;43m\"\u001b[39;49m\u001b[38;5;124;43mPrice[1]\u001b[39;49m\u001b[38;5;124;43m\"\u001b[39;49m\u001b[43m]\u001b[49m\u001b[43m \u001b[49m\u001b[38;5;241;43m/\u001b[39;49m\u001b[43m \u001b[49m\u001b[43mr\u001b[49m\u001b[43m[\u001b[49m\u001b[38;5;124;43m\"\u001b[39;49m\u001b[38;5;124;43mPrice[0]\u001b[39;49m\u001b[38;5;124;43m\"\u001b[39;49m\u001b[43m]\u001b[49m)\u001b[38;5;241m-\u001b[39m\u001b[38;5;241m1\u001b[39m\n\u001b[0;32m     12\u001b[0m     \u001b[38;5;28;01mif\u001b[39;00m diff \u001b[38;5;241m>\u001b[39m\u001b[38;5;241m=\u001b[39m \u001b[38;5;241m0.2\u001b[39m :\n\u001b[0;32m     13\u001b[0m         r[\u001b[38;5;124m'\u001b[39m\u001b[38;5;124mscore\u001b[39m\u001b[38;5;124m'\u001b[39m] \u001b[38;5;241m=\u001b[39m \u001b[38;5;241m3\u001b[39m\n",
      "\u001b[1;31mZeroDivisionError\u001b[0m: float division by zero"
     ]
    }
   ],
   "source": [
    "ratingScore(STG_Y,Date)"
   ]
  },
  {
   "cell_type": "code",
   "execution_count": 11,
   "id": "bc3b6bdb-c461-40d6-849d-36e632d16abb",
   "metadata": {},
   "outputs": [
    {
     "data": {
      "text/plain": [
       "43"
      ]
     },
     "execution_count": 11,
     "metadata": {},
     "output_type": "execute_result"
    }
   ],
   "source": [
    "len(STG_X)"
   ]
  },
  {
   "cell_type": "code",
   "execution_count": null,
   "id": "3e43feed-5480-438a-b807-4493c6409d4a",
   "metadata": {},
   "outputs": [],
   "source": [
    "STG_Y.head(3)"
   ]
  },
  {
   "cell_type": "code",
   "execution_count": null,
   "id": "53adc80f-b497-45ef-8bc4-9f46758ca0b2",
   "metadata": {},
   "outputs": [],
   "source": [
    "STG_X.head(3)"
   ]
  },
  {
   "cell_type": "code",
   "execution_count": null,
   "id": "4deb816c-66d1-40c8-bb01-13831829bb7c",
   "metadata": {},
   "outputs": [],
   "source": []
  },
  {
   "cell_type": "code",
   "execution_count": null,
   "id": "d429ef5d-4463-4667-9b18-c8a72ee314c2",
   "metadata": {},
   "outputs": [],
   "source": []
  }
 ],
 "metadata": {
  "kernelspec": {
   "display_name": "Python 3 (ipykernel)",
   "language": "python",
   "name": "python3"
  },
  "language_info": {
   "codemirror_mode": {
    "name": "ipython",
    "version": 3
   },
   "file_extension": ".py",
   "mimetype": "text/x-python",
   "name": "python",
   "nbconvert_exporter": "python",
   "pygments_lexer": "ipython3",
   "version": "3.9.12"
  }
 },
 "nbformat": 4,
 "nbformat_minor": 5
}
