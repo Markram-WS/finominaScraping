{
 "cells": [
  {
   "cell_type": "code",
   "execution_count": 1,
   "id": "e69209e6",
   "metadata": {},
   "outputs": [],
   "source": [
    "import pandas as pd\n",
    "import numpy as np\n",
    "from selenium import webdriver\n",
    "from selenium.webdriver.common.keys import Keys\n",
    "import time\n",
    "from selenium.webdriver.common.by import By\n",
    "from selenium.webdriver.support.ui import WebDriverWait\n",
    "from selenium.webdriver.support import expected_conditions as EC\n",
    "import warnings\n",
    "warnings.filterwarnings('ignore')\n",
    "warnings.simplefilter('ignore')"
   ]
  },
  {
   "cell_type": "code",
   "execution_count": 2,
   "id": "7b62425c",
   "metadata": {},
   "outputs": [],
   "source": [
    "class get_quote():\n",
    "    def __init__(self):\n",
    "        self.chrome_options = webdriver.ChromeOptions()\n",
    "        self.driver = webdriver.Chrome(executable_path = \"./webdriver/chromedriver.exe\",chrome_options=self.chrome_options)\n",
    "        self.driver.set_page_load_timeout(60)\n",
    "        self.driver.get(f\"https://www.set.or.th/th/market/get-quote/stock/\")\n",
    "        self.data = pd.DataFrame(columns=['Symbol','Name','Market','MarketGroup'])        \n",
    "            \n",
    "    def read(self,start_row,end_row):\n",
    "        tableLoc = \"/html/body/div/div/div/div[2]/div[2]/div[2]/div/div/div[3]/div[2]/div[1]/div[2]/table/tbody/\"\n",
    "        for i in range(start_row,end_row):\n",
    "            symbol =  self.driver.find_element(By.XPATH, tableLoc+f\"tr[{i+1}]/td[1]\").text\n",
    "            name = self.driver.find_element(By.XPATH, tableLoc+f\"tr[{i+1}]/td[2]\").text\n",
    "            market = self.driver.find_element(By.XPATH, tableLoc+f\"tr[{i+1}]/td[3]\").text\n",
    "            market_group = self.driver.find_element(By.XPATH, tableLoc+f\"tr[{i+1}]/td[4]\").text\n",
    "            self.data = self.data.append({'Symbol':symbol,\n",
    "                                          'Name':name,\n",
    "                                          'Market':market,\n",
    "                                          'MarketGroup':market_group}, \n",
    "                                         ignore_index=True)\n",
    "            \n",
    "    def clear(self):\n",
    "        self.data = pd.DataFrame(columns=['Symbol','Name','Market','MarketGroup'])      \n",
    "            \n",
    "    def save(self):\n",
    "        self.data.to_excel(f\"./stockList.xlsx\",encoding='utf-8',sheet_name='Symbol',index=False)\n",
    "    \n"
   ]
  },
  {
   "cell_type": "code",
   "execution_count": null,
   "id": "a322a6d3",
   "metadata": {},
   "outputs": [],
   "source": [
    "stockQuote = get_quote()"
   ]
  },
  {
   "cell_type": "code",
   "execution_count": null,
   "id": "b1eb72ac",
   "metadata": {},
   "outputs": [],
   "source": [
    "stockQuote.read(0,100)"
   ]
  },
  {
   "cell_type": "code",
   "execution_count": null,
   "id": "8b82b0f9",
   "metadata": {},
   "outputs": [],
   "source": [
    "stockQuote.data"
   ]
  },
  {
   "cell_type": "code",
   "execution_count": null,
   "id": "0114cc95",
   "metadata": {},
   "outputs": [],
   "source": [
    "==== save ===="
   ]
  },
  {
   "cell_type": "code",
   "execution_count": null,
   "id": "d1b6728f",
   "metadata": {},
   "outputs": [],
   "source": [
    "stockQuote.save()"
   ]
  }
 ],
 "metadata": {
  "kernelspec": {
   "display_name": "Python 3 (ipykernel)",
   "language": "python",
   "name": "python3"
  },
  "language_info": {
   "codemirror_mode": {
    "name": "ipython",
    "version": 3
   },
   "file_extension": ".py",
   "mimetype": "text/x-python",
   "name": "python",
   "nbconvert_exporter": "python",
   "pygments_lexer": "ipython3",
   "version": "3.9.12"
  }
 },
 "nbformat": 4,
 "nbformat_minor": 5
}
